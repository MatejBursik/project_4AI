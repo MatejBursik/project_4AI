{
 "cells": [
  {
   "cell_type": "code",
   "execution_count": 1,
   "metadata": {},
   "outputs": [
    {
     "data": {
      "text/plain": [
       "True"
      ]
     },
     "execution_count": 1,
     "metadata": {},
     "output_type": "execute_result"
    }
   ],
   "source": [
    "import torch\n",
    "torch.cuda.is_available()"
   ]
  },
  {
   "cell_type": "code",
   "execution_count": 2,
   "metadata": {},
   "outputs": [],
   "source": [
    "from ultralytics import YOLO"
   ]
  },
  {
   "cell_type": "code",
   "execution_count": 3,
   "metadata": {},
   "outputs": [],
   "source": [
    "# Create a new YOLO model from scratch\n",
    "#model = YOLO(\"yolo11n.yaml\")\n",
    "\n",
    "# Load a pretrained YOLO model (recommended for training)\n",
    "model = YOLO(\"yolo11n.pt\")"
   ]
  },
  {
   "cell_type": "code",
   "execution_count": 5,
   "metadata": {},
   "outputs": [
    {
     "name": "stdout",
     "output_type": "stream",
     "text": [
      "\u001b[34m\u001b[1mTuner: \u001b[0mInitialized Tuner instance with 'tune_dir=C:\\Users\\matej\\Desktop\\UniSchool\\P4.0\\project_4AI\\runs\\detect\\tune4'\n",
      "\u001b[34m\u001b[1mTuner: \u001b[0m Learn about tuning at https://docs.ultralytics.com/guides/hyperparameter-tuning\n",
      "\u001b[34m\u001b[1mTuner: \u001b[0mStarting iteration 1/10 with hyperparameters: {'lr0': 0.01, 'lrf': 0.01, 'momentum': 0.937, 'weight_decay': 0.0005, 'warmup_epochs': 3.0, 'warmup_momentum': 0.8, 'box': 7.5, 'cls': 0.5, 'dfl': 1.5, 'hsv_h': 0.015, 'hsv_s': 0.7, 'hsv_v': 0.4, 'degrees': 0.0, 'translate': 0.1, 'scale': 0.5, 'shear': 0.0, 'perspective': 0.0, 'flipud': 0.0, 'fliplr': 0.5, 'bgr': 0.0, 'mosaic': 1.0, 'mixup': 0.0, 'copy_paste': 0.0}\n",
      "Saved C:\\Users\\matej\\Desktop\\UniSchool\\P4.0\\project_4AI\\runs\\detect\\tune4\\tune_scatter_plots.png\n",
      "Saved C:\\Users\\matej\\Desktop\\UniSchool\\P4.0\\project_4AI\\runs\\detect\\tune4\\tune_fitness.png\n",
      "\n",
      "\u001b[34m\u001b[1mTuner: \u001b[0m1/10 iterations complete  (339.77s)\n",
      "\u001b[34m\u001b[1mTuner: \u001b[0mResults saved to \u001b[1mC:\\Users\\matej\\Desktop\\UniSchool\\P4.0\\project_4AI\\runs\\detect\\tune4\u001b[0m\n",
      "\u001b[34m\u001b[1mTuner: \u001b[0mBest fitness=0.59693 observed at iteration 1\n",
      "\u001b[34m\u001b[1mTuner: \u001b[0mBest fitness metrics are {'metrics/precision(B)': 0.96943, 'metrics/recall(B)': 0.93298, 'metrics/mAP50(B)': 0.94973, 'metrics/mAP50-95(B)': 0.55773, 'val/box_loss': 1.38094, 'val/cls_loss': 0.75706, 'val/dfl_loss': 1.26175, 'fitness': 0.59693}\n",
      "\u001b[34m\u001b[1mTuner: \u001b[0mBest fitness model is C:\\Users\\matej\\Desktop\\UniSchool\\P4.0\\project_4AI\\runs\\detect\\train31\n",
      "\u001b[34m\u001b[1mTuner: \u001b[0mBest fitness hyperparameters are printed below.\n",
      "\n",
      "Printing '\u001b[1m\u001b[30mC:\\Users\\matej\\Desktop\\UniSchool\\P4.0\\project_4AI\\runs\\detect\\tune4\\best_hyperparameters.yaml\u001b[0m'\n",
      "\n",
      "lr0: 0.01\n",
      "lrf: 0.01\n",
      "momentum: 0.937\n",
      "weight_decay: 0.0005\n",
      "warmup_epochs: 3.0\n",
      "warmup_momentum: 0.8\n",
      "box: 7.5\n",
      "cls: 0.5\n",
      "dfl: 1.5\n",
      "hsv_h: 0.015\n",
      "hsv_s: 0.7\n",
      "hsv_v: 0.4\n",
      "degrees: 0.0\n",
      "translate: 0.1\n",
      "scale: 0.5\n",
      "shear: 0.0\n",
      "perspective: 0.0\n",
      "flipud: 0.0\n",
      "fliplr: 0.5\n",
      "bgr: 0.0\n",
      "mosaic: 1.0\n",
      "mixup: 0.0\n",
      "copy_paste: 0.0\n",
      "\n",
      "\u001b[34m\u001b[1mTuner: \u001b[0mStarting iteration 2/10 with hyperparameters: {'lr0': 0.01133, 'lrf': 0.01148, 'momentum': 0.937, 'weight_decay': 0.00051, 'warmup_epochs': 3.15676, 'warmup_momentum': 0.8, 'box': 7.95965, 'cls': 0.38235, 'dfl': 1.58764, 'hsv_h': 0.0121, 'hsv_s': 0.75528, 'hsv_v': 0.37364, 'degrees': 0.0, 'translate': 0.09474, 'scale': 0.34653, 'shear': 0.0, 'perspective': 0.0, 'flipud': 0.0, 'fliplr': 0.45046, 'bgr': 0.0, 'mosaic': 1.0, 'mixup': 0.0, 'copy_paste': 0.0}\n",
      "Saved C:\\Users\\matej\\Desktop\\UniSchool\\P4.0\\project_4AI\\runs\\detect\\tune4\\tune_scatter_plots.png\n",
      "Saved C:\\Users\\matej\\Desktop\\UniSchool\\P4.0\\project_4AI\\runs\\detect\\tune4\\tune_fitness.png\n",
      "\n",
      "\u001b[34m\u001b[1mTuner: \u001b[0m2/10 iterations complete  (681.79s)\n",
      "\u001b[34m\u001b[1mTuner: \u001b[0mResults saved to \u001b[1mC:\\Users\\matej\\Desktop\\UniSchool\\P4.0\\project_4AI\\runs\\detect\\tune4\u001b[0m\n",
      "\u001b[34m\u001b[1mTuner: \u001b[0mBest fitness=0.66402 observed at iteration 2\n",
      "\u001b[34m\u001b[1mTuner: \u001b[0mBest fitness metrics are {'metrics/precision(B)': 0.96965, 'metrics/recall(B)': 0.93985, 'metrics/mAP50(B)': 0.94521, 'metrics/mAP50-95(B)': 0.63278, 'val/box_loss': 1.14241, 'val/cls_loss': 0.46312, 'val/dfl_loss': 1.1892, 'fitness': 0.66402}\n",
      "\u001b[34m\u001b[1mTuner: \u001b[0mBest fitness model is C:\\Users\\matej\\Desktop\\UniSchool\\P4.0\\project_4AI\\runs\\detect\\train33\n",
      "\u001b[34m\u001b[1mTuner: \u001b[0mBest fitness hyperparameters are printed below.\n",
      "\n",
      "Printing '\u001b[1m\u001b[30mC:\\Users\\matej\\Desktop\\UniSchool\\P4.0\\project_4AI\\runs\\detect\\tune4\\best_hyperparameters.yaml\u001b[0m'\n",
      "\n",
      "lr0: 0.01133\n",
      "lrf: 0.01148\n",
      "momentum: 0.937\n",
      "weight_decay: 0.00051\n",
      "warmup_epochs: 3.15676\n",
      "warmup_momentum: 0.8\n",
      "box: 7.95965\n",
      "cls: 0.38235\n",
      "dfl: 1.58764\n",
      "hsv_h: 0.0121\n",
      "hsv_s: 0.75528\n",
      "hsv_v: 0.37364\n",
      "degrees: 0.0\n",
      "translate: 0.09474\n",
      "scale: 0.34653\n",
      "shear: 0.0\n",
      "perspective: 0.0\n",
      "flipud: 0.0\n",
      "fliplr: 0.45046\n",
      "bgr: 0.0\n",
      "mosaic: 1.0\n",
      "mixup: 0.0\n",
      "copy_paste: 0.0\n",
      "\n",
      "\u001b[34m\u001b[1mTuner: \u001b[0mStarting iteration 3/10 with hyperparameters: {'lr0': 0.01133, 'lrf': 0.01541, 'momentum': 0.94595, 'weight_decay': 0.00051, 'warmup_epochs': 3.99726, 'warmup_momentum': 0.7312, 'box': 10.25174, 'cls': 0.3881, 'dfl': 1.60812, 'hsv_h': 0.01364, 'hsv_s': 0.61538, 'hsv_v': 0.3856, 'degrees': 0.0, 'translate': 0.10402, 'scale': 0.32417, 'shear': 0.0, 'perspective': 0.0, 'flipud': 0.0, 'fliplr': 0.45046, 'bgr': 0.0, 'mosaic': 1.0, 'mixup': 0.0, 'copy_paste': 0.0}\n",
      "Saved C:\\Users\\matej\\Desktop\\UniSchool\\P4.0\\project_4AI\\runs\\detect\\tune4\\tune_scatter_plots.png\n",
      "Saved C:\\Users\\matej\\Desktop\\UniSchool\\P4.0\\project_4AI\\runs\\detect\\tune4\\tune_fitness.png\n",
      "\n",
      "\u001b[34m\u001b[1mTuner: \u001b[0m3/10 iterations complete  (1031.61s)\n",
      "\u001b[34m\u001b[1mTuner: \u001b[0mResults saved to \u001b[1mC:\\Users\\matej\\Desktop\\UniSchool\\P4.0\\project_4AI\\runs\\detect\\tune4\u001b[0m\n",
      "\u001b[34m\u001b[1mTuner: \u001b[0mBest fitness=0.68477 observed at iteration 3\n",
      "\u001b[34m\u001b[1mTuner: \u001b[0mBest fitness metrics are {'metrics/precision(B)': 0.96395, 'metrics/recall(B)': 0.94118, 'metrics/mAP50(B)': 0.98743, 'metrics/mAP50-95(B)': 0.65114, 'val/box_loss': 1.72577, 'val/cls_loss': 0.50608, 'val/dfl_loss': 1.29147, 'fitness': 0.68477}\n",
      "\u001b[34m\u001b[1mTuner: \u001b[0mBest fitness model is C:\\Users\\matej\\Desktop\\UniSchool\\P4.0\\project_4AI\\runs\\detect\\train34\n",
      "\u001b[34m\u001b[1mTuner: \u001b[0mBest fitness hyperparameters are printed below.\n",
      "\n",
      "Printing '\u001b[1m\u001b[30mC:\\Users\\matej\\Desktop\\UniSchool\\P4.0\\project_4AI\\runs\\detect\\tune4\\best_hyperparameters.yaml\u001b[0m'\n",
      "\n",
      "lr0: 0.01133\n",
      "lrf: 0.01541\n",
      "momentum: 0.94595\n",
      "weight_decay: 0.00051\n",
      "warmup_epochs: 3.99726\n",
      "warmup_momentum: 0.7312\n",
      "box: 10.25174\n",
      "cls: 0.3881\n",
      "dfl: 1.60812\n",
      "hsv_h: 0.01364\n",
      "hsv_s: 0.61538\n",
      "hsv_v: 0.3856\n",
      "degrees: 0.0\n",
      "translate: 0.10402\n",
      "scale: 0.32417\n",
      "shear: 0.0\n",
      "perspective: 0.0\n",
      "flipud: 0.0\n",
      "fliplr: 0.45046\n",
      "bgr: 0.0\n",
      "mosaic: 1.0\n",
      "mixup: 0.0\n",
      "copy_paste: 0.0\n",
      "\n",
      "\u001b[34m\u001b[1mTuner: \u001b[0mStarting iteration 4/10 with hyperparameters: {'lr0': 0.01133, 'lrf': 0.01554, 'momentum': 0.96494, 'weight_decay': 0.00051, 'warmup_epochs': 4.49818, 'warmup_momentum': 0.78364, 'box': 9.58899, 'cls': 0.40315, 'dfl': 1.47007, 'hsv_h': 0.01375, 'hsv_s': 0.58856, 'hsv_v': 0.40746, 'degrees': 0.0, 'translate': 0.09591, 'scale': 0.33176, 'shear': 0.0, 'perspective': 0.0, 'flipud': 0.0, 'fliplr': 0.44798, 'bgr': 0.0, 'mosaic': 0.93389, 'mixup': 0.0, 'copy_paste': 0.0}\n",
      "Saved C:\\Users\\matej\\Desktop\\UniSchool\\P4.0\\project_4AI\\runs\\detect\\tune4\\tune_scatter_plots.png\n",
      "Saved C:\\Users\\matej\\Desktop\\UniSchool\\P4.0\\project_4AI\\runs\\detect\\tune4\\tune_fitness.png\n",
      "\n",
      "\u001b[34m\u001b[1mTuner: \u001b[0m4/10 iterations complete  (1379.01s)\n",
      "\u001b[34m\u001b[1mTuner: \u001b[0mResults saved to \u001b[1mC:\\Users\\matej\\Desktop\\UniSchool\\P4.0\\project_4AI\\runs\\detect\\tune4\u001b[0m\n",
      "\u001b[34m\u001b[1mTuner: \u001b[0mBest fitness=0.68477 observed at iteration 3\n",
      "\u001b[34m\u001b[1mTuner: \u001b[0mBest fitness metrics are {'metrics/precision(B)': 0.96395, 'metrics/recall(B)': 0.94118, 'metrics/mAP50(B)': 0.98743, 'metrics/mAP50-95(B)': 0.65114, 'val/box_loss': 1.72577, 'val/cls_loss': 0.50608, 'val/dfl_loss': 1.29147, 'fitness': 0.68477}\n",
      "\u001b[34m\u001b[1mTuner: \u001b[0mBest fitness model is C:\\Users\\matej\\Desktop\\UniSchool\\P4.0\\project_4AI\\runs\\detect\\train34\n",
      "\u001b[34m\u001b[1mTuner: \u001b[0mBest fitness hyperparameters are printed below.\n",
      "\n",
      "Printing '\u001b[1m\u001b[30mC:\\Users\\matej\\Desktop\\UniSchool\\P4.0\\project_4AI\\runs\\detect\\tune4\\best_hyperparameters.yaml\u001b[0m'\n",
      "\n",
      "lr0: 0.01133\n",
      "lrf: 0.01541\n",
      "momentum: 0.94595\n",
      "weight_decay: 0.00051\n",
      "warmup_epochs: 3.99726\n",
      "warmup_momentum: 0.7312\n",
      "box: 10.25174\n",
      "cls: 0.3881\n",
      "dfl: 1.60812\n",
      "hsv_h: 0.01364\n",
      "hsv_s: 0.61538\n",
      "hsv_v: 0.3856\n",
      "degrees: 0.0\n",
      "translate: 0.10402\n",
      "scale: 0.32417\n",
      "shear: 0.0\n",
      "perspective: 0.0\n",
      "flipud: 0.0\n",
      "fliplr: 0.45046\n",
      "bgr: 0.0\n",
      "mosaic: 1.0\n",
      "mixup: 0.0\n",
      "copy_paste: 0.0\n",
      "\n",
      "\u001b[34m\u001b[1mTuner: \u001b[0mStarting iteration 5/10 with hyperparameters: {'lr0': 0.01133, 'lrf': 0.01595, 'momentum': 0.87747, 'weight_decay': 0.00052, 'warmup_epochs': 3.99726, 'warmup_momentum': 0.61097, 'box': 13.38135, 'cls': 0.29655, 'dfl': 1.58251, 'hsv_h': 0.01598, 'hsv_s': 0.6005, 'hsv_v': 0.3856, 'degrees': 0.0, 'translate': 0.10911, 'scale': 0.30505, 'shear': 0.0, 'perspective': 0.0, 'flipud': 0.0, 'fliplr': 0.45046, 'bgr': 0.0, 'mosaic': 1.0, 'mixup': 0.0, 'copy_paste': 0.0}\n",
      "Saved C:\\Users\\matej\\Desktop\\UniSchool\\P4.0\\project_4AI\\runs\\detect\\tune4\\tune_scatter_plots.png\n",
      "Saved C:\\Users\\matej\\Desktop\\UniSchool\\P4.0\\project_4AI\\runs\\detect\\tune4\\tune_fitness.png\n",
      "\n",
      "\u001b[34m\u001b[1mTuner: \u001b[0m5/10 iterations complete  (1728.48s)\n",
      "\u001b[34m\u001b[1mTuner: \u001b[0mResults saved to \u001b[1mC:\\Users\\matej\\Desktop\\UniSchool\\P4.0\\project_4AI\\runs\\detect\\tune4\u001b[0m\n",
      "\u001b[34m\u001b[1mTuner: \u001b[0mBest fitness=0.68477 observed at iteration 3\n",
      "\u001b[34m\u001b[1mTuner: \u001b[0mBest fitness metrics are {'metrics/precision(B)': 0.96395, 'metrics/recall(B)': 0.94118, 'metrics/mAP50(B)': 0.98743, 'metrics/mAP50-95(B)': 0.65114, 'val/box_loss': 1.72577, 'val/cls_loss': 0.50608, 'val/dfl_loss': 1.29147, 'fitness': 0.68477}\n",
      "\u001b[34m\u001b[1mTuner: \u001b[0mBest fitness model is C:\\Users\\matej\\Desktop\\UniSchool\\P4.0\\project_4AI\\runs\\detect\\train34\n",
      "\u001b[34m\u001b[1mTuner: \u001b[0mBest fitness hyperparameters are printed below.\n",
      "\n",
      "Printing '\u001b[1m\u001b[30mC:\\Users\\matej\\Desktop\\UniSchool\\P4.0\\project_4AI\\runs\\detect\\tune4\\best_hyperparameters.yaml\u001b[0m'\n",
      "\n",
      "lr0: 0.01133\n",
      "lrf: 0.01541\n",
      "momentum: 0.94595\n",
      "weight_decay: 0.00051\n",
      "warmup_epochs: 3.99726\n",
      "warmup_momentum: 0.7312\n",
      "box: 10.25174\n",
      "cls: 0.3881\n",
      "dfl: 1.60812\n",
      "hsv_h: 0.01364\n",
      "hsv_s: 0.61538\n",
      "hsv_v: 0.3856\n",
      "degrees: 0.0\n",
      "translate: 0.10402\n",
      "scale: 0.32417\n",
      "shear: 0.0\n",
      "perspective: 0.0\n",
      "flipud: 0.0\n",
      "fliplr: 0.45046\n",
      "bgr: 0.0\n",
      "mosaic: 1.0\n",
      "mixup: 0.0\n",
      "copy_paste: 0.0\n",
      "\n",
      "\u001b[34m\u001b[1mTuner: \u001b[0mStarting iteration 6/10 with hyperparameters: {'lr0': 0.01132, 'lrf': 0.01492, 'momentum': 0.96494, 'weight_decay': 0.00051, 'warmup_epochs': 4.49818, 'warmup_momentum': 0.78364, 'box': 10.83503, 'cls': 0.40315, 'dfl': 1.47007, 'hsv_h': 0.01258, 'hsv_s': 0.58856, 'hsv_v': 0.40042, 'degrees': 0.0, 'translate': 0.1114, 'scale': 0.28463, 'shear': 0.0, 'perspective': 0.0, 'flipud': 0.0, 'fliplr': 0.3812, 'bgr': 0.0, 'mosaic': 0.98972, 'mixup': 0.0, 'copy_paste': 0.0}\n",
      "Saved C:\\Users\\matej\\Desktop\\UniSchool\\P4.0\\project_4AI\\runs\\detect\\tune4\\tune_scatter_plots.png\n",
      "Saved C:\\Users\\matej\\Desktop\\UniSchool\\P4.0\\project_4AI\\runs\\detect\\tune4\\tune_fitness.png\n",
      "\n",
      "\u001b[34m\u001b[1mTuner: \u001b[0m6/10 iterations complete  (2081.62s)\n",
      "\u001b[34m\u001b[1mTuner: \u001b[0mResults saved to \u001b[1mC:\\Users\\matej\\Desktop\\UniSchool\\P4.0\\project_4AI\\runs\\detect\\tune4\u001b[0m\n",
      "\u001b[34m\u001b[1mTuner: \u001b[0mBest fitness=0.68477 observed at iteration 3\n",
      "\u001b[34m\u001b[1mTuner: \u001b[0mBest fitness metrics are {'metrics/precision(B)': 0.96395, 'metrics/recall(B)': 0.94118, 'metrics/mAP50(B)': 0.98743, 'metrics/mAP50-95(B)': 0.65114, 'val/box_loss': 1.72577, 'val/cls_loss': 0.50608, 'val/dfl_loss': 1.29147, 'fitness': 0.68477}\n",
      "\u001b[34m\u001b[1mTuner: \u001b[0mBest fitness model is C:\\Users\\matej\\Desktop\\UniSchool\\P4.0\\project_4AI\\runs\\detect\\train34\n",
      "\u001b[34m\u001b[1mTuner: \u001b[0mBest fitness hyperparameters are printed below.\n",
      "\n",
      "Printing '\u001b[1m\u001b[30mC:\\Users\\matej\\Desktop\\UniSchool\\P4.0\\project_4AI\\runs\\detect\\tune4\\best_hyperparameters.yaml\u001b[0m'\n",
      "\n",
      "lr0: 0.01133\n",
      "lrf: 0.01541\n",
      "momentum: 0.94595\n",
      "weight_decay: 0.00051\n",
      "warmup_epochs: 3.99726\n",
      "warmup_momentum: 0.7312\n",
      "box: 10.25174\n",
      "cls: 0.3881\n",
      "dfl: 1.60812\n",
      "hsv_h: 0.01364\n",
      "hsv_s: 0.61538\n",
      "hsv_v: 0.3856\n",
      "degrees: 0.0\n",
      "translate: 0.10402\n",
      "scale: 0.32417\n",
      "shear: 0.0\n",
      "perspective: 0.0\n",
      "flipud: 0.0\n",
      "fliplr: 0.45046\n",
      "bgr: 0.0\n",
      "mosaic: 1.0\n",
      "mixup: 0.0\n",
      "copy_paste: 0.0\n",
      "\n",
      "\u001b[34m\u001b[1mTuner: \u001b[0mStarting iteration 7/10 with hyperparameters: {'lr0': 0.01011, 'lrf': 0.01362, 'momentum': 0.937, 'weight_decay': 0.00051, 'warmup_epochs': 3.08728, 'warmup_momentum': 0.89558, 'box': 9.90979, 'cls': 0.40519, 'dfl': 1.04095, 'hsv_h': 0.01304, 'hsv_s': 0.9, 'hsv_v': 0.37364, 'degrees': 0.0, 'translate': 0.10782, 'scale': 0.32626, 'shear': 0.0, 'perspective': 0.0, 'flipud': 0.0, 'fliplr': 0.46838, 'bgr': 0.0, 'mosaic': 1.0, 'mixup': 0.0, 'copy_paste': 0.0}\n",
      "Saved C:\\Users\\matej\\Desktop\\UniSchool\\P4.0\\project_4AI\\runs\\detect\\tune4\\tune_scatter_plots.png\n",
      "Saved C:\\Users\\matej\\Desktop\\UniSchool\\P4.0\\project_4AI\\runs\\detect\\tune4\\tune_fitness.png\n",
      "\n",
      "\u001b[34m\u001b[1mTuner: \u001b[0m7/10 iterations complete  (2435.70s)\n",
      "\u001b[34m\u001b[1mTuner: \u001b[0mResults saved to \u001b[1mC:\\Users\\matej\\Desktop\\UniSchool\\P4.0\\project_4AI\\runs\\detect\\tune4\u001b[0m\n",
      "\u001b[34m\u001b[1mTuner: \u001b[0mBest fitness=0.68477 observed at iteration 3\n",
      "\u001b[34m\u001b[1mTuner: \u001b[0mBest fitness metrics are {'metrics/precision(B)': 0.96395, 'metrics/recall(B)': 0.94118, 'metrics/mAP50(B)': 0.98743, 'metrics/mAP50-95(B)': 0.65114, 'val/box_loss': 1.72577, 'val/cls_loss': 0.50608, 'val/dfl_loss': 1.29147, 'fitness': 0.68477}\n",
      "\u001b[34m\u001b[1mTuner: \u001b[0mBest fitness model is C:\\Users\\matej\\Desktop\\UniSchool\\P4.0\\project_4AI\\runs\\detect\\train34\n",
      "\u001b[34m\u001b[1mTuner: \u001b[0mBest fitness hyperparameters are printed below.\n",
      "\n",
      "Printing '\u001b[1m\u001b[30mC:\\Users\\matej\\Desktop\\UniSchool\\P4.0\\project_4AI\\runs\\detect\\tune4\\best_hyperparameters.yaml\u001b[0m'\n",
      "\n",
      "lr0: 0.01133\n",
      "lrf: 0.01541\n",
      "momentum: 0.94595\n",
      "weight_decay: 0.00051\n",
      "warmup_epochs: 3.99726\n",
      "warmup_momentum: 0.7312\n",
      "box: 10.25174\n",
      "cls: 0.3881\n",
      "dfl: 1.60812\n",
      "hsv_h: 0.01364\n",
      "hsv_s: 0.61538\n",
      "hsv_v: 0.3856\n",
      "degrees: 0.0\n",
      "translate: 0.10402\n",
      "scale: 0.32417\n",
      "shear: 0.0\n",
      "perspective: 0.0\n",
      "flipud: 0.0\n",
      "fliplr: 0.45046\n",
      "bgr: 0.0\n",
      "mosaic: 1.0\n",
      "mixup: 0.0\n",
      "copy_paste: 0.0\n",
      "\n",
      "\u001b[34m\u001b[1mTuner: \u001b[0mStarting iteration 8/10 with hyperparameters: {'lr0': 0.01105, 'lrf': 0.01148, 'momentum': 0.937, 'weight_decay': 0.00051, 'warmup_epochs': 3.26853, 'warmup_momentum': 0.8, 'box': 7.63318, 'cls': 0.38235, 'dfl': 1.54901, 'hsv_h': 0.01221, 'hsv_s': 0.74771, 'hsv_v': 0.39165, 'degrees': 0.0, 'translate': 0.09942, 'scale': 0.35897, 'shear': 0.0, 'perspective': 0.0, 'flipud': 0.0, 'fliplr': 0.4461, 'bgr': 0.0, 'mosaic': 0.96903, 'mixup': 0.0, 'copy_paste': 0.0}\n",
      "Saved C:\\Users\\matej\\Desktop\\UniSchool\\P4.0\\project_4AI\\runs\\detect\\tune4\\tune_scatter_plots.png\n",
      "Saved C:\\Users\\matej\\Desktop\\UniSchool\\P4.0\\project_4AI\\runs\\detect\\tune4\\tune_fitness.png\n",
      "\n",
      "\u001b[34m\u001b[1mTuner: \u001b[0m8/10 iterations complete  (2773.66s)\n",
      "\u001b[34m\u001b[1mTuner: \u001b[0mResults saved to \u001b[1mC:\\Users\\matej\\Desktop\\UniSchool\\P4.0\\project_4AI\\runs\\detect\\tune4\u001b[0m\n",
      "\u001b[34m\u001b[1mTuner: \u001b[0mBest fitness=0.68477 observed at iteration 3\n",
      "\u001b[34m\u001b[1mTuner: \u001b[0mBest fitness metrics are {'metrics/precision(B)': 0.96395, 'metrics/recall(B)': 0.94118, 'metrics/mAP50(B)': 0.98743, 'metrics/mAP50-95(B)': 0.65114, 'val/box_loss': 1.72577, 'val/cls_loss': 0.50608, 'val/dfl_loss': 1.29147, 'fitness': 0.68477}\n",
      "\u001b[34m\u001b[1mTuner: \u001b[0mBest fitness model is C:\\Users\\matej\\Desktop\\UniSchool\\P4.0\\project_4AI\\runs\\detect\\train34\n",
      "\u001b[34m\u001b[1mTuner: \u001b[0mBest fitness hyperparameters are printed below.\n",
      "\n",
      "Printing '\u001b[1m\u001b[30mC:\\Users\\matej\\Desktop\\UniSchool\\P4.0\\project_4AI\\runs\\detect\\tune4\\best_hyperparameters.yaml\u001b[0m'\n",
      "\n",
      "lr0: 0.01133\n",
      "lrf: 0.01541\n",
      "momentum: 0.94595\n",
      "weight_decay: 0.00051\n",
      "warmup_epochs: 3.99726\n",
      "warmup_momentum: 0.7312\n",
      "box: 10.25174\n",
      "cls: 0.3881\n",
      "dfl: 1.60812\n",
      "hsv_h: 0.01364\n",
      "hsv_s: 0.61538\n",
      "hsv_v: 0.3856\n",
      "degrees: 0.0\n",
      "translate: 0.10402\n",
      "scale: 0.32417\n",
      "shear: 0.0\n",
      "perspective: 0.0\n",
      "flipud: 0.0\n",
      "fliplr: 0.45046\n",
      "bgr: 0.0\n",
      "mosaic: 1.0\n",
      "mixup: 0.0\n",
      "copy_paste: 0.0\n",
      "\n",
      "\u001b[34m\u001b[1mTuner: \u001b[0mStarting iteration 9/10 with hyperparameters: {'lr0': 0.0109, 'lrf': 0.01498, 'momentum': 0.94853, 'weight_decay': 0.00049, 'warmup_epochs': 3.99726, 'warmup_momentum': 0.70528, 'box': 10.79911, 'cls': 0.39546, 'dfl': 1.60812, 'hsv_h': 0.01428, 'hsv_s': 0.61513, 'hsv_v': 0.3856, 'degrees': 0.0, 'translate': 0.1123, 'scale': 0.3478, 'shear': 0.0, 'perspective': 0.0, 'flipud': 0.0, 'fliplr': 0.42527, 'bgr': 0.0, 'mosaic': 0.9401, 'mixup': 0.0, 'copy_paste': 0.0}\n",
      "Saved C:\\Users\\matej\\Desktop\\UniSchool\\P4.0\\project_4AI\\runs\\detect\\tune4\\tune_scatter_plots.png\n",
      "Saved C:\\Users\\matej\\Desktop\\UniSchool\\P4.0\\project_4AI\\runs\\detect\\tune4\\tune_fitness.png\n",
      "\n",
      "\u001b[34m\u001b[1mTuner: \u001b[0m9/10 iterations complete  (3124.93s)\n",
      "\u001b[34m\u001b[1mTuner: \u001b[0mResults saved to \u001b[1mC:\\Users\\matej\\Desktop\\UniSchool\\P4.0\\project_4AI\\runs\\detect\\tune4\u001b[0m\n",
      "\u001b[34m\u001b[1mTuner: \u001b[0mBest fitness=0.68477 observed at iteration 3\n",
      "\u001b[34m\u001b[1mTuner: \u001b[0mBest fitness metrics are {'metrics/precision(B)': 0.96395, 'metrics/recall(B)': 0.94118, 'metrics/mAP50(B)': 0.98743, 'metrics/mAP50-95(B)': 0.65114, 'val/box_loss': 1.72577, 'val/cls_loss': 0.50608, 'val/dfl_loss': 1.29147, 'fitness': 0.68477}\n",
      "\u001b[34m\u001b[1mTuner: \u001b[0mBest fitness model is C:\\Users\\matej\\Desktop\\UniSchool\\P4.0\\project_4AI\\runs\\detect\\train34\n",
      "\u001b[34m\u001b[1mTuner: \u001b[0mBest fitness hyperparameters are printed below.\n",
      "\n",
      "Printing '\u001b[1m\u001b[30mC:\\Users\\matej\\Desktop\\UniSchool\\P4.0\\project_4AI\\runs\\detect\\tune4\\best_hyperparameters.yaml\u001b[0m'\n",
      "\n",
      "lr0: 0.01133\n",
      "lrf: 0.01541\n",
      "momentum: 0.94595\n",
      "weight_decay: 0.00051\n",
      "warmup_epochs: 3.99726\n",
      "warmup_momentum: 0.7312\n",
      "box: 10.25174\n",
      "cls: 0.3881\n",
      "dfl: 1.60812\n",
      "hsv_h: 0.01364\n",
      "hsv_s: 0.61538\n",
      "hsv_v: 0.3856\n",
      "degrees: 0.0\n",
      "translate: 0.10402\n",
      "scale: 0.32417\n",
      "shear: 0.0\n",
      "perspective: 0.0\n",
      "flipud: 0.0\n",
      "fliplr: 0.45046\n",
      "bgr: 0.0\n",
      "mosaic: 1.0\n",
      "mixup: 0.0\n",
      "copy_paste: 0.0\n",
      "\n",
      "\u001b[34m\u001b[1mTuner: \u001b[0mStarting iteration 10/10 with hyperparameters: {'lr0': 0.0089, 'lrf': 0.01777, 'momentum': 0.94595, 'weight_decay': 0.00038, 'warmup_epochs': 3.80935, 'warmup_momentum': 0.7312, 'box': 10.57755, 'cls': 0.42493, 'dfl': 1.39905, 'hsv_h': 0.01364, 'hsv_s': 0.61538, 'hsv_v': 0.33471, 'degrees': 0.0, 'translate': 0.10541, 'scale': 0.34784, 'shear': 0.0, 'perspective': 0.0, 'flipud': 0.0, 'fliplr': 0.4334, 'bgr': 0.0, 'mosaic': 0.9354, 'mixup': 0.0, 'copy_paste': 0.0}\n",
      "Saved C:\\Users\\matej\\Desktop\\UniSchool\\P4.0\\project_4AI\\runs\\detect\\tune4\\tune_scatter_plots.png\n",
      "Saved C:\\Users\\matej\\Desktop\\UniSchool\\P4.0\\project_4AI\\runs\\detect\\tune4\\tune_fitness.png\n",
      "\n",
      "\u001b[34m\u001b[1mTuner: \u001b[0m10/10 iterations complete  (3472.18s)\n",
      "\u001b[34m\u001b[1mTuner: \u001b[0mResults saved to \u001b[1mC:\\Users\\matej\\Desktop\\UniSchool\\P4.0\\project_4AI\\runs\\detect\\tune4\u001b[0m\n",
      "\u001b[34m\u001b[1mTuner: \u001b[0mBest fitness=0.68477 observed at iteration 3\n",
      "\u001b[34m\u001b[1mTuner: \u001b[0mBest fitness metrics are {'metrics/precision(B)': 0.96395, 'metrics/recall(B)': 0.94118, 'metrics/mAP50(B)': 0.98743, 'metrics/mAP50-95(B)': 0.65114, 'val/box_loss': 1.72577, 'val/cls_loss': 0.50608, 'val/dfl_loss': 1.29147, 'fitness': 0.68477}\n",
      "\u001b[34m\u001b[1mTuner: \u001b[0mBest fitness model is C:\\Users\\matej\\Desktop\\UniSchool\\P4.0\\project_4AI\\runs\\detect\\train34\n",
      "\u001b[34m\u001b[1mTuner: \u001b[0mBest fitness hyperparameters are printed below.\n",
      "\n",
      "Printing '\u001b[1m\u001b[30mC:\\Users\\matej\\Desktop\\UniSchool\\P4.0\\project_4AI\\runs\\detect\\tune4\\best_hyperparameters.yaml\u001b[0m'\n",
      "\n",
      "lr0: 0.01133\n",
      "lrf: 0.01541\n",
      "momentum: 0.94595\n",
      "weight_decay: 0.00051\n",
      "warmup_epochs: 3.99726\n",
      "warmup_momentum: 0.7312\n",
      "box: 10.25174\n",
      "cls: 0.3881\n",
      "dfl: 1.60812\n",
      "hsv_h: 0.01364\n",
      "hsv_s: 0.61538\n",
      "hsv_v: 0.3856\n",
      "degrees: 0.0\n",
      "translate: 0.10402\n",
      "scale: 0.32417\n",
      "shear: 0.0\n",
      "perspective: 0.0\n",
      "flipud: 0.0\n",
      "fliplr: 0.45046\n",
      "bgr: 0.0\n",
      "mosaic: 1.0\n",
      "mixup: 0.0\n",
      "copy_paste: 0.0\n",
      "\n"
     ]
    }
   ],
   "source": [
    "# Tune hyperparameters\n",
    "model.tune(data=\"../datasets/hornets_1/data.yaml\",\n",
    "           epochs=10,\n",
    "           iterations=10,\n",
    "           optimizer=\"AdamW\",\n",
    "           plots=False,\n",
    "           save=False,\n",
    "           val=False)"
   ]
  },
  {
   "cell_type": "code",
   "execution_count": 7,
   "metadata": {},
   "outputs": [
    {
     "name": "stdout",
     "output_type": "stream",
     "text": [
      "New https://pypi.org/project/ultralytics/8.3.75 available  Update with 'pip install -U ultralytics'\n",
      "Ultralytics 8.3.61  Python-3.11.5 torch-2.5.1+cu118 CUDA:0 (NVIDIA GeForce GTX 1650, 4096MiB)\n",
      "\u001b[34m\u001b[1mengine\\trainer: \u001b[0mtask=detect, mode=train, model=../runs/detect/tune4/weights/best.pt, data=../datasets/hornets_1/data.yaml, epochs=10, time=None, patience=100, batch=16, imgsz=640, save=True, save_period=-1, cache=False, device=None, workers=8, project=None, name=train43, exist_ok=False, pretrained=True, optimizer=auto, verbose=True, seed=0, deterministic=True, single_cls=False, rect=False, cos_lr=False, close_mosaic=10, resume=False, amp=True, fraction=1.0, profile=False, freeze=None, multi_scale=False, overlap_mask=True, mask_ratio=4, dropout=0.0, val=True, split=val, save_json=False, save_hybrid=False, conf=None, iou=0.7, max_det=300, half=False, dnn=False, plots=True, source=None, vid_stride=1, stream_buffer=False, visualize=False, augment=False, agnostic_nms=False, classes=None, retina_masks=False, embed=None, show=False, save_frames=False, save_txt=False, save_conf=False, save_crop=False, show_labels=True, show_conf=True, show_boxes=True, line_width=None, format=torchscript, keras=False, optimize=False, int8=False, dynamic=False, simplify=True, opset=None, workspace=None, nms=False, lr0=0.01, lrf=0.01, momentum=0.937, weight_decay=0.0005, warmup_epochs=3.0, warmup_momentum=0.8, warmup_bias_lr=0.1, box=7.5, cls=0.5, dfl=1.5, pose=12.0, kobj=1.0, nbs=64, hsv_h=0.015, hsv_s=0.7, hsv_v=0.4, degrees=0.0, translate=0.1, scale=0.5, shear=0.0, perspective=0.0, flipud=0.0, fliplr=0.5, bgr=0.0, mosaic=1.0, mixup=0.0, copy_paste=0.0, copy_paste_mode=flip, auto_augment=randaugment, erasing=0.4, crop_fraction=1.0, cfg=None, tracker=botsort.yaml, save_dir=C:\\Users\\matej\\Desktop\\UniSchool\\P4.0\\project_4AI\\runs\\detect\\train43\n",
      "\n",
      "                   from  n    params  module                                       arguments                     \n",
      "  0                  -1  1       464  ultralytics.nn.modules.conv.Conv             [3, 16, 3, 2]                 \n",
      "  1                  -1  1      4672  ultralytics.nn.modules.conv.Conv             [16, 32, 3, 2]                \n",
      "  2                  -1  1      6640  ultralytics.nn.modules.block.C3k2            [32, 64, 1, False, 0.25]      \n",
      "  3                  -1  1     36992  ultralytics.nn.modules.conv.Conv             [64, 64, 3, 2]                \n",
      "  4                  -1  1     26080  ultralytics.nn.modules.block.C3k2            [64, 128, 1, False, 0.25]     \n",
      "  5                  -1  1    147712  ultralytics.nn.modules.conv.Conv             [128, 128, 3, 2]              \n",
      "  6                  -1  1     87040  ultralytics.nn.modules.block.C3k2            [128, 128, 1, True]           \n",
      "  7                  -1  1    295424  ultralytics.nn.modules.conv.Conv             [128, 256, 3, 2]              \n",
      "  8                  -1  1    346112  ultralytics.nn.modules.block.C3k2            [256, 256, 1, True]           \n",
      "  9                  -1  1    164608  ultralytics.nn.modules.block.SPPF            [256, 256, 5]                 \n",
      " 10                  -1  1    249728  ultralytics.nn.modules.block.C2PSA           [256, 256, 1]                 \n",
      " 11                  -1  1         0  torch.nn.modules.upsampling.Upsample         [None, 2, 'nearest']          \n",
      " 12             [-1, 6]  1         0  ultralytics.nn.modules.conv.Concat           [1]                           \n",
      " 13                  -1  1    111296  ultralytics.nn.modules.block.C3k2            [384, 128, 1, False]          \n",
      " 14                  -1  1         0  torch.nn.modules.upsampling.Upsample         [None, 2, 'nearest']          \n",
      " 15             [-1, 4]  1         0  ultralytics.nn.modules.conv.Concat           [1]                           \n",
      " 16                  -1  1     32096  ultralytics.nn.modules.block.C3k2            [256, 64, 1, False]           \n",
      " 17                  -1  1     36992  ultralytics.nn.modules.conv.Conv             [64, 64, 3, 2]                \n",
      " 18            [-1, 13]  1         0  ultralytics.nn.modules.conv.Concat           [1]                           \n",
      " 19                  -1  1     86720  ultralytics.nn.modules.block.C3k2            [192, 128, 1, False]          \n",
      " 20                  -1  1    147712  ultralytics.nn.modules.conv.Conv             [128, 128, 3, 2]              \n",
      " 21            [-1, 10]  1         0  ultralytics.nn.modules.conv.Concat           [1]                           \n",
      " 22                  -1  1    378880  ultralytics.nn.modules.block.C3k2            [384, 256, 1, True]           \n",
      " 23        [16, 19, 22]  1    430867  ultralytics.nn.modules.head.Detect           [1, [64, 128, 256]]           \n",
      "YOLO11n summary: 319 layers, 2,590,035 parameters, 2,590,019 gradients, 6.4 GFLOPs\n",
      "\n",
      "Transferred 499/499 items from pretrained weights\n",
      "Freezing layer 'model.23.dfl.conv.weight'\n",
      "\u001b[34m\u001b[1mAMP: \u001b[0mchecks failed . AMP training on NVIDIA GeForce GTX 1650 GPU may cause NaN losses or zero-mAP results, so AMP will be disabled during training.\n"
     ]
    },
    {
     "name": "stderr",
     "output_type": "stream",
     "text": [
      "\u001b[34m\u001b[1mtrain: \u001b[0mScanning C:\\Users\\matej\\Desktop\\UniSchool\\P4.0\\project_4AI\\datasets\\hornets_1\\train\\labels.cache... 615 images, 0 backgrounds, 0 corrupt: 100%|██████████| 615/615 [00:00<?, ?it/s]\n",
      "\u001b[34m\u001b[1mval: \u001b[0mScanning C:\\Users\\matej\\Desktop\\UniSchool\\P4.0\\project_4AI\\datasets\\hornets_1\\val\\labels.cache... 34 images, 0 backgrounds, 0 corrupt: 100%|██████████| 34/34 [00:00<?, ?it/s]\n"
     ]
    },
    {
     "name": "stdout",
     "output_type": "stream",
     "text": [
      "Plotting labels to C:\\Users\\matej\\Desktop\\UniSchool\\P4.0\\project_4AI\\runs\\detect\\train43\\labels.jpg... \n",
      "\u001b[34m\u001b[1moptimizer:\u001b[0m 'optimizer=auto' found, ignoring 'lr0=0.01' and 'momentum=0.937' and determining best 'optimizer', 'lr0' and 'momentum' automatically... \n",
      "\u001b[34m\u001b[1moptimizer:\u001b[0m AdamW(lr=0.002, momentum=0.9) with parameter groups 81 weight(decay=0.0), 88 weight(decay=0.0005), 87 bias(decay=0.0)\n",
      "Image sizes 640 train, 640 val\n",
      "Using 8 dataloader workers\n",
      "Logging results to \u001b[1mC:\\Users\\matej\\Desktop\\UniSchool\\P4.0\\project_4AI\\runs\\detect\\train43\u001b[0m\n",
      "Starting training for 10 epochs...\n",
      "Closing dataloader mosaic\n",
      "\n",
      "      Epoch    GPU_mem   box_loss   cls_loss   dfl_loss  Instances       Size\n"
     ]
    },
    {
     "name": "stderr",
     "output_type": "stream",
     "text": [
      "       1/10      4.29G      1.436      0.821       1.27          6        640: 100%|██████████| 39/39 [00:24<00:00,  1.61it/s]\n",
      "                 Class     Images  Instances      Box(P          R      mAP50  mAP50-95): 100%|██████████| 2/2 [00:01<00:00,  1.11it/s]"
     ]
    },
    {
     "name": "stdout",
     "output_type": "stream",
     "text": [
      "                   all         34         34       0.97      0.938      0.969        0.6\n"
     ]
    },
    {
     "name": "stderr",
     "output_type": "stream",
     "text": [
      "\n"
     ]
    },
    {
     "name": "stdout",
     "output_type": "stream",
     "text": [
      "\n",
      "      Epoch    GPU_mem   box_loss   cls_loss   dfl_loss  Instances       Size\n"
     ]
    },
    {
     "name": "stderr",
     "output_type": "stream",
     "text": [
      "       2/10       4.2G      1.407     0.7669      1.262          6        640: 100%|██████████| 39/39 [00:26<00:00,  1.49it/s]\n",
      "                 Class     Images  Instances      Box(P          R      mAP50  mAP50-95): 100%|██████████| 2/2 [00:01<00:00,  1.52it/s]"
     ]
    },
    {
     "name": "stdout",
     "output_type": "stream",
     "text": [
      "                   all         34         34          1      0.905      0.984      0.652\n"
     ]
    },
    {
     "name": "stderr",
     "output_type": "stream",
     "text": [
      "\n"
     ]
    },
    {
     "name": "stdout",
     "output_type": "stream",
     "text": [
      "\n",
      "      Epoch    GPU_mem   box_loss   cls_loss   dfl_loss  Instances       Size\n"
     ]
    },
    {
     "name": "stderr",
     "output_type": "stream",
     "text": [
      "       3/10      4.32G      1.454     0.7714      1.287          5        640: 100%|██████████| 39/39 [00:23<00:00,  1.63it/s]\n",
      "                 Class     Images  Instances      Box(P          R      mAP50  mAP50-95): 100%|██████████| 2/2 [00:01<00:00,  1.53it/s]"
     ]
    },
    {
     "name": "stdout",
     "output_type": "stream",
     "text": [
      "                   all         34         34      0.965      0.941      0.957      0.453\n"
     ]
    },
    {
     "name": "stderr",
     "output_type": "stream",
     "text": [
      "\n"
     ]
    },
    {
     "name": "stdout",
     "output_type": "stream",
     "text": [
      "\n",
      "      Epoch    GPU_mem   box_loss   cls_loss   dfl_loss  Instances       Size\n"
     ]
    },
    {
     "name": "stderr",
     "output_type": "stream",
     "text": [
      "       4/10      4.32G      1.454     0.7759      1.281          6        640: 100%|██████████| 39/39 [00:37<00:00,  1.04it/s]\n",
      "                 Class     Images  Instances      Box(P          R      mAP50  mAP50-95): 100%|██████████| 2/2 [00:01<00:00,  1.53it/s]"
     ]
    },
    {
     "name": "stdout",
     "output_type": "stream",
     "text": [
      "                   all         34         34      0.963      0.941      0.986      0.637\n"
     ]
    },
    {
     "name": "stderr",
     "output_type": "stream",
     "text": [
      "\n"
     ]
    },
    {
     "name": "stdout",
     "output_type": "stream",
     "text": [
      "\n",
      "      Epoch    GPU_mem   box_loss   cls_loss   dfl_loss  Instances       Size\n"
     ]
    },
    {
     "name": "stderr",
     "output_type": "stream",
     "text": [
      "       5/10      4.32G       1.37     0.7215      1.247          5        640: 100%|██████████| 39/39 [00:24<00:00,  1.60it/s]\n",
      "                 Class     Images  Instances      Box(P          R      mAP50  mAP50-95): 100%|██████████| 2/2 [00:00<00:00,  3.08it/s]"
     ]
    },
    {
     "name": "stdout",
     "output_type": "stream",
     "text": [
      "                   all         34         34      0.964      0.941      0.991      0.668\n"
     ]
    },
    {
     "name": "stderr",
     "output_type": "stream",
     "text": [
      "\n"
     ]
    },
    {
     "name": "stdout",
     "output_type": "stream",
     "text": [
      "\n",
      "      Epoch    GPU_mem   box_loss   cls_loss   dfl_loss  Instances       Size\n"
     ]
    },
    {
     "name": "stderr",
     "output_type": "stream",
     "text": [
      "       6/10      4.32G      1.374     0.7075      1.246          7        640: 100%|██████████| 39/39 [00:22<00:00,  1.73it/s]\n",
      "                 Class     Images  Instances      Box(P          R      mAP50  mAP50-95): 100%|██████████| 2/2 [00:01<00:00,  1.59it/s]"
     ]
    },
    {
     "name": "stdout",
     "output_type": "stream",
     "text": [
      "                   all         34         34      0.944      0.992      0.991      0.635\n"
     ]
    },
    {
     "name": "stderr",
     "output_type": "stream",
     "text": [
      "\n"
     ]
    },
    {
     "name": "stdout",
     "output_type": "stream",
     "text": [
      "\n",
      "      Epoch    GPU_mem   box_loss   cls_loss   dfl_loss  Instances       Size\n"
     ]
    },
    {
     "name": "stderr",
     "output_type": "stream",
     "text": [
      "       7/10       4.2G      1.382     0.6967      1.273          6        640: 100%|██████████| 39/39 [00:25<00:00,  1.56it/s]\n",
      "                 Class     Images  Instances      Box(P          R      mAP50  mAP50-95): 100%|██████████| 2/2 [00:01<00:00,  1.59it/s]"
     ]
    },
    {
     "name": "stdout",
     "output_type": "stream",
     "text": [
      "                   all         34         34      0.965      0.941      0.969      0.558\n"
     ]
    },
    {
     "name": "stderr",
     "output_type": "stream",
     "text": [
      "\n"
     ]
    },
    {
     "name": "stdout",
     "output_type": "stream",
     "text": [
      "\n",
      "      Epoch    GPU_mem   box_loss   cls_loss   dfl_loss  Instances       Size\n"
     ]
    },
    {
     "name": "stderr",
     "output_type": "stream",
     "text": [
      "       8/10      4.32G      1.356     0.6662      1.218          7        640: 100%|██████████| 39/39 [00:24<00:00,  1.57it/s]\n",
      "                 Class     Images  Instances      Box(P          R      mAP50  mAP50-95): 100%|██████████| 2/2 [00:01<00:00,  1.59it/s]"
     ]
    },
    {
     "name": "stdout",
     "output_type": "stream",
     "text": [
      "                   all         34         34      0.941      0.941      0.987      0.646\n"
     ]
    },
    {
     "name": "stderr",
     "output_type": "stream",
     "text": [
      "\n"
     ]
    },
    {
     "name": "stdout",
     "output_type": "stream",
     "text": [
      "\n",
      "      Epoch    GPU_mem   box_loss   cls_loss   dfl_loss  Instances       Size\n"
     ]
    },
    {
     "name": "stderr",
     "output_type": "stream",
     "text": [
      "       9/10      4.32G      1.334     0.6586      1.221          6        640: 100%|██████████| 39/39 [00:40<00:00,  1.03s/it]\n",
      "                 Class     Images  Instances      Box(P          R      mAP50  mAP50-95): 100%|██████████| 2/2 [00:01<00:00,  1.57it/s]"
     ]
    },
    {
     "name": "stdout",
     "output_type": "stream",
     "text": [
      "                   all         34         34       0.97       0.94      0.989      0.621\n"
     ]
    },
    {
     "name": "stderr",
     "output_type": "stream",
     "text": [
      "\n"
     ]
    },
    {
     "name": "stdout",
     "output_type": "stream",
     "text": [
      "\n",
      "      Epoch    GPU_mem   box_loss   cls_loss   dfl_loss  Instances       Size\n"
     ]
    },
    {
     "name": "stderr",
     "output_type": "stream",
     "text": [
      "      10/10      4.32G       1.29     0.6472      1.197          7        640: 100%|██████████| 39/39 [00:22<00:00,  1.72it/s]\n",
      "                 Class     Images  Instances      Box(P          R      mAP50  mAP50-95): 100%|██████████| 2/2 [00:00<00:00,  3.17it/s]"
     ]
    },
    {
     "name": "stdout",
     "output_type": "stream",
     "text": [
      "                   all         34         34      0.962      0.941       0.99       0.64\n"
     ]
    },
    {
     "name": "stderr",
     "output_type": "stream",
     "text": [
      "\n"
     ]
    },
    {
     "name": "stdout",
     "output_type": "stream",
     "text": [
      "\n",
      "10 epochs completed in 0.089 hours.\n",
      "Optimizer stripped from C:\\Users\\matej\\Desktop\\UniSchool\\P4.0\\project_4AI\\runs\\detect\\train43\\weights\\last.pt, 5.4MB\n",
      "Optimizer stripped from C:\\Users\\matej\\Desktop\\UniSchool\\P4.0\\project_4AI\\runs\\detect\\train43\\weights\\best.pt, 5.4MB\n",
      "\n",
      "Validating C:\\Users\\matej\\Desktop\\UniSchool\\P4.0\\project_4AI\\runs\\detect\\train43\\weights\\best.pt...\n",
      "Ultralytics 8.3.61  Python-3.11.5 torch-2.5.1+cu118 CUDA:0 (NVIDIA GeForce GTX 1650, 4096MiB)\n",
      "YOLO11n summary (fused): 238 layers, 2,582,347 parameters, 0 gradients, 6.3 GFLOPs\n"
     ]
    },
    {
     "name": "stderr",
     "output_type": "stream",
     "text": [
      "                 Class     Images  Instances      Box(P          R      mAP50  mAP50-95): 100%|██████████| 2/2 [00:00<00:00,  4.71it/s]\n"
     ]
    },
    {
     "name": "stdout",
     "output_type": "stream",
     "text": [
      "                   all         34         34      0.964      0.941      0.991      0.668\n",
      "Speed: 0.5ms preprocess, 4.0ms inference, 0.0ms loss, 1.0ms postprocess per image\n",
      "Results saved to \u001b[1mC:\\Users\\matej\\Desktop\\UniSchool\\P4.0\\project_4AI\\runs\\detect\\train43\u001b[0m\n"
     ]
    }
   ],
   "source": [
    "# Train the model using our custom dataset\n",
    "# TODO: try while training so that it can be implemented for tracking\n",
    "    # - obb model\n",
    "    # - half (f16)\n",
    "    # - imgsz\n",
    "    # - look at more settings https://docs.ultralytics.com/modes/train/#train-settings\n",
    "model = YOLO(\"../runs/detect/tune4/weights/best.pt\")\n",
    "results = model.train(data=\"../datasets/hornets_1/data.yaml\", epochs=10)"
   ]
  },
  {
   "cell_type": "code",
   "execution_count": 8,
   "metadata": {},
   "outputs": [
    {
     "name": "stdout",
     "output_type": "stream",
     "text": [
      "Ultralytics 8.3.61  Python-3.11.5 torch-2.5.1+cu118 CUDA:0 (NVIDIA GeForce GTX 1650, 4096MiB)\n"
     ]
    },
    {
     "name": "stdout",
     "output_type": "stream",
     "text": [
      "YOLO11n summary (fused): 238 layers, 2,582,347 parameters, 0 gradients, 6.3 GFLOPs\n"
     ]
    },
    {
     "name": "stderr",
     "output_type": "stream",
     "text": [
      "\u001b[34m\u001b[1mval: \u001b[0mScanning C:\\Users\\matej\\Desktop\\UniSchool\\P4.0\\project_4AI\\datasets\\hornets_1\\val\\labels.cache... 34 images, 0 backgrounds, 0 corrupt: 100%|██████████| 34/34 [00:00<?, ?it/s]\n",
      "                 Class     Images  Instances      Box(P          R      mAP50  mAP50-95): 100%|██████████| 3/3 [00:08<00:00,  2.94s/it]\n"
     ]
    },
    {
     "name": "stdout",
     "output_type": "stream",
     "text": [
      "                   all         34         34      0.964      0.941      0.991      0.668\n",
      "Speed: 3.2ms preprocess, 11.9ms inference, 0.0ms loss, 3.1ms postprocess per image\n",
      "Results saved to \u001b[1mC:\\Users\\matej\\Desktop\\UniSchool\\P4.0\\project_4AI\\runs\\detect\\train432\u001b[0m\n"
     ]
    }
   ],
   "source": [
    "# Evaluate the model's performance on the validation set\n",
    "results = model.val()"
   ]
  },
  {
   "cell_type": "code",
   "execution_count": 9,
   "metadata": {},
   "outputs": [
    {
     "name": "stdout",
     "output_type": "stream",
     "text": [
      "Ultralytics 8.3.61  Python-3.11.5 torch-2.5.1+cu118 CPU (AMD Ryzen 7 4800H with Radeon Graphics)\n",
      "\n",
      "\u001b[34m\u001b[1mPyTorch:\u001b[0m starting from 'C:\\Users\\matej\\Desktop\\UniSchool\\P4.0\\project_4AI\\runs\\detect\\train43\\weights\\best.pt' with input shape (1, 3, 640, 640) BCHW and output shape(s) (1, 5, 8400) (5.2 MB)\n",
      "\n",
      "\u001b[34m\u001b[1mONNX:\u001b[0m starting export with onnx 1.17.0 opset 19...\n",
      "\u001b[34m\u001b[1mONNX:\u001b[0m slimming with onnxslim 0.1.47...\n",
      "\u001b[34m\u001b[1mONNX:\u001b[0m export success  2.2s, saved as 'C:\\Users\\matej\\Desktop\\UniSchool\\P4.0\\project_4AI\\runs\\detect\\train43\\weights\\best.onnx' (10.1 MB)\n",
      "\n",
      "Export complete (2.6s)\n",
      "Results saved to \u001b[1mC:\\Users\\matej\\Desktop\\UniSchool\\P4.0\\project_4AI\\runs\\detect\\train43\\weights\u001b[0m\n",
      "Predict:         yolo predict task=detect model=C:\\Users\\matej\\Desktop\\UniSchool\\P4.0\\project_4AI\\runs\\detect\\train43\\weights\\best.onnx imgsz=640  \n",
      "Validate:        yolo val task=detect model=C:\\Users\\matej\\Desktop\\UniSchool\\P4.0\\project_4AI\\runs\\detect\\train43\\weights\\best.onnx imgsz=640 data=../datasets/hornets_1/data.yaml  \n",
      "Visualize:       https://netron.app\n",
      "C:\\Users\\matej\\Desktop\\UniSchool\\P4.0\\project_4AI\\runs\\detect\\train43\\weights\\best.onnx\n"
     ]
    }
   ],
   "source": [
    "# Export the model to ONNX format\n",
    "success = model.export(format=\"onnx\")\n",
    "print(success)"
   ]
  }
 ],
 "metadata": {
  "kernelspec": {
   "display_name": "venv",
   "language": "python",
   "name": "python3"
  },
  "language_info": {
   "codemirror_mode": {
    "name": "ipython",
    "version": 3
   },
   "file_extension": ".py",
   "mimetype": "text/x-python",
   "name": "python",
   "nbconvert_exporter": "python",
   "pygments_lexer": "ipython3",
   "version": "3.11.5"
  }
 },
 "nbformat": 4,
 "nbformat_minor": 2
}
