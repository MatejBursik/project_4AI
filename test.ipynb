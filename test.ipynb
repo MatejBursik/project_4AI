{
 "cells": [
  {
   "cell_type": "code",
   "execution_count": 2,
   "metadata": {},
   "outputs": [],
   "source": [
    "from functions import *\n",
    "import time"
   ]
  },
  {
   "cell_type": "markdown",
   "metadata": {},
   "source": [
    "Test api communcation from the container to localhost"
   ]
  },
  {
   "cell_type": "code",
   "execution_count": null,
   "metadata": {},
   "outputs": [],
   "source": [
    "run_request(True)\n",
    "time.sleep(5)\n",
    "run_request(False)"
   ]
  },
  {
   "cell_type": "markdown",
   "metadata": {},
   "source": [
    "Test exit and enter calculation"
   ]
  },
  {
   "cell_type": "code",
   "execution_count": null,
   "metadata": {},
   "outputs": [
    {
     "name": "stdout",
     "output_type": "stream",
     "text": [
      "m  -1.9999999999999996\n",
      "Angle relative to screen: 153.43 degrees\n",
      "Angle relative to noth: 183.43 degrees\n"
     ]
    }
   ],
   "source": [
    "coord_1 = (0,0)\n",
    "coord_2 = (1,-2)\n",
    "coord_3 = (2,-4)\n",
    "\n",
    "screen_angle = enter_exit_calc(coord_1, coord_2, coord_3)\n",
    "if screen_angle == -1:\n",
    "    print(\"Error\")\n",
    "else:\n",
    "    print(f\"Angle relative to screen: {screen_angle:.2f} degrees\")"
   ]
  }
 ],
 "metadata": {
  "kernelspec": {
   "display_name": "venv",
   "language": "python",
   "name": "python3"
  },
  "language_info": {
   "codemirror_mode": {
    "name": "ipython",
    "version": 3
   },
   "file_extension": ".py",
   "mimetype": "text/x-python",
   "name": "python",
   "nbconvert_exporter": "python",
   "pygments_lexer": "ipython3",
   "version": "3.11.5"
  }
 },
 "nbformat": 4,
 "nbformat_minor": 2
}
