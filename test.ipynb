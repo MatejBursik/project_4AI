{
 "cells": [
  {
   "cell_type": "code",
   "execution_count": 1,
   "metadata": {},
   "outputs": [],
   "source": [
    "from functions import *\n",
    "import time"
   ]
  },
  {
   "cell_type": "markdown",
   "metadata": {},
   "source": [
    "Test api communcation from the container to localhost operated by relay.py"
   ]
  },
  {
   "cell_type": "code",
   "execution_count": null,
   "metadata": {},
   "outputs": [],
   "source": [
    "run_request(True)\n",
    "time.sleep(5)\n",
    "run_request(False)"
   ]
  },
  {
   "cell_type": "markdown",
   "metadata": {},
   "source": [
    "Test exit and enter calculation"
   ]
  },
  {
   "cell_type": "code",
   "execution_count": 14,
   "metadata": {},
   "outputs": [
    {
     "name": "stdout",
     "output_type": "stream",
     "text": [
      "m  -0.0\n",
      "lp\n",
      "Angle relative to screen: 270.00 degrees\n"
     ]
    }
   ],
   "source": [
    "coord_1 = (2,0)\n",
    "coord_2 = (1,0)\n",
    "coord_3 = (0,0)\n",
    "\n",
    "# also does not recognize if it is going right or left\n",
    "screen_angle = enter_exit_calc(coord_1, coord_2, coord_3)\n",
    "if screen_angle == -1:\n",
    "    print(\"Error\")\n",
    "else:\n",
    "    print(f\"Angle relative to screen: {screen_angle:.2f} degrees\")"
   ]
  },
  {
   "cell_type": "markdown",
   "metadata": {},
   "source": [
    "Test a simple middle point calculation"
   ]
  },
  {
   "cell_type": "code",
   "execution_count": 16,
   "metadata": {},
   "outputs": [
    {
     "name": "stdout",
     "output_type": "stream",
     "text": [
      "2.0 2.0\n"
     ]
    }
   ],
   "source": [
    "x,y = midpoint(1,3,3,1)\n",
    "print(x,y)"
   ]
  },
  {
   "cell_type": "markdown",
   "metadata": {},
   "source": [
    "### Algorithm for the exit and enter values\n",
    "\n",
    "1) every cycle the coord list gets updated\n",
    "2) if the hornet is present on the screen, its coordinates are added under its id\n",
    "3) if the hornet is not present on the screen, its oldest coordinate gets deleted from its id\n",
    "4) maximum list length is 5, so the oldest coordinate gets deleted and new gets added\n",
    "5) when the list length reaches 3 coords and first of last coord is close to the edge, it executes the angle calculation\n",
    "6) when the list length reaches 0, the id and its list gets deleted, and other ids get shifted "
   ]
  },
  {
   "cell_type": "code",
   "execution_count": 2,
   "metadata": {},
   "outputs": [
    {
     "name": "stdout",
     "output_type": "stream",
     "text": [
      "id: 1 , lenght: 5\n",
      "id: 2 , lenght: 3\n",
      "[(0, 0), (1, -2), (2, -4)]\n",
      "m  -1.9999999999999996\n",
      "Angle relative to screen: 153.43 degrees\n",
      "id: 3 , lenght: 3\n",
      "[(0, 0), (1, 2), (2, 4)]\n",
      "m  1.9999999999999996\n",
      "Angle relative to screen: 26.57 degrees\n",
      "id: 4 , lenght: 1\n",
      "id: 5 , lenght: 0\n",
      "id: 6 , lenght: 4\n",
      "\n",
      "id: 1 , lenght: 6\n",
      "[(0, 0), (1, -2), (2, -4), (0, 0), (0, 0)]\n",
      "id: 2 , lenght: 2\n",
      "id: 3 , lenght: 2\n",
      "id: 4 , lenght: 0\n",
      "id: 5 , lenght: 3\n",
      "[(2, 2), (3, 3), (4, 4)]\n",
      "m  0.9999999999999998\n",
      "Angle relative to screen: 45.00 degrees\n",
      "\n",
      "id: 1 , lenght: 6\n",
      "[(1, -2), (2, -4), (0, 0), (0, 0), (0, 0)]\n",
      "id: 2 , lenght: 1\n",
      "id: 3 , lenght: 1\n",
      "id: 4 , lenght: 2\n",
      "\n",
      "id: 1 , lenght: 6\n",
      "[(2, -4), (0, 0), (0, 0), (0, 0), (0, 0)]\n",
      "id: 2 , lenght: 0\n",
      "id: 3 , lenght: 0\n",
      "id: 4 , lenght: 1\n",
      "\n",
      "id: 1 , lenght: 6\n",
      "[(0, 0), (0, 0), (0, 0), (0, 0), (0, 0)]\n",
      "id: 2 , lenght: 0\n",
      "\n",
      "id: 1 , lenght: 6\n",
      "[(0, 0), (0, 0), (0, 0), (0, 0), (0, 0)]\n",
      "\n"
     ]
    }
   ],
   "source": [
    "hornet_values = {\n",
    "    \"id\": [1, 2, 3, 4, 5, 6],\n",
    "    \"coordinates\": [\n",
    "        [(0,0), (0,0), (1,-2), (2,-4)],\n",
    "        [(0,0), (0,0), (1,-2), (2,-4)],\n",
    "        [(0,0), (0,0), (1,2), (2,4)],\n",
    "        [(0,0), (0,0)],\n",
    "        [(0,0)],\n",
    "        [(0,0), (1,1), (2,2), (3,3), (4,4)]\n",
    "    ]\n",
    "}\n",
    "\n",
    "count = 5\n",
    "while count >= 0:\n",
    "    # object detection\n",
    "    all_detected_hornets_ids = [1]\n",
    "\n",
    "    # If the hornet is detected, ADD its coordinates\n",
    "    for h_id in all_detected_hornets_ids:\n",
    "        if h_id not in hornet_values[\"id\"]:\n",
    "            # add coords (.append() adds to the back of the list)\n",
    "            hornet_values[\"id\"].append(h_id)\n",
    "            hornet_values[\"coordinates\"].append([])\n",
    "\n",
    "        # add coords (.append() adds to the back of the list)\n",
    "        hornet_values[\"coordinates\"][h_id-1].append((0,0))\n",
    "    \n",
    "    delete_ids = []\n",
    "    for h_id in hornet_values[\"id\"]:\n",
    "        # If the hornet is not detected, DELETE its oldest coordinates\n",
    "        if h_id not in all_detected_hornets_ids:\n",
    "            # delete coords (.pop(0) deletes to the front of the list)\n",
    "            hornet_values[\"coordinates\"][h_id-1].pop(0)\n",
    "\n",
    "        print(\"id:\", h_id, \", lenght:\", len(hornet_values[\"coordinates\"][h_id-1]))\n",
    "        match len(hornet_values[\"coordinates\"][h_id-1]):\n",
    "            # If there are no coordinates in the list, DELETE the list and the id\n",
    "            case 0:\n",
    "                delete_ids.append(h_id)\n",
    "\n",
    "            # If there are 3 coordinates, calculate the angle\n",
    "            case 3:\n",
    "                print(hornet_values[\"coordinates\"][h_id-1])\n",
    "                screen_angle = enter_exit_calc(\n",
    "                    hornet_values[\"coordinates\"][h_id-1][0],\n",
    "                    hornet_values[\"coordinates\"][h_id-1][1],\n",
    "                    hornet_values[\"coordinates\"][h_id-1][2]\n",
    "                )\n",
    "                if screen_angle == -1:\n",
    "                    print(\"Error\")\n",
    "                else:\n",
    "                    print(f\"Angle relative to screen: {screen_angle:.2f} degrees\")\n",
    "            \n",
    "            # If there is more than 5 coordinates, DELETE its oldest coordinates\n",
    "            case 6:\n",
    "                # delete coords (.pop(0) deletes to the front of the list)\n",
    "                hornet_values[\"coordinates\"][h_id-1].pop(0)\n",
    "                print(hornet_values[\"coordinates\"][h_id-1])\n",
    "\n",
    "    # DELETE the lists and the ids marked for deletion\n",
    "    for h_id in delete_ids[::-1]: # in reverse for that deleting does not effect other values\n",
    "        hornet_values[\"coordinates\"].pop(h_id-1)\n",
    "    hornet_values[\"id\"] = list(range(1, len(hornet_values[\"coordinates\"]) + 1))\n",
    "\n",
    "    count -= 1\n",
    "    print()"
   ]
  },
  {
   "cell_type": "markdown",
   "metadata": {},
   "source": [
    "Test the sliding window color choosing"
   ]
  },
  {
   "cell_type": "code",
   "execution_count": null,
   "metadata": {},
   "outputs": [
    {
     "name": "stdout",
     "output_type": "stream",
     "text": [
      "red\n"
     ]
    }
   ],
   "source": [
    "words = ['pink', 'pink', 'pink', 'red', 'red', 'red', 'red']\n",
    "print(most_frequent_color(words))"
   ]
  },
  {
   "cell_type": "code",
   "execution_count": null,
   "metadata": {},
   "outputs": [
    {
     "name": "stdout",
     "output_type": "stream",
     "text": [
      "1739366511.2075534\n",
      "time.struct_time(tm_year=2025, tm_mon=2, tm_mday=12, tm_hour=13, tm_min=21, tm_sec=51, tm_wday=2, tm_yday=43, tm_isdst=0)\n",
      "2025-02-12_13:21:51\n"
     ]
    }
   ],
   "source": [
    "import time\n",
    "\n",
    "# Get current UTC time as a timestamp\n",
    "utc_timestamp = time.time()\n",
    "print(utc_timestamp)  # Example: 1707749452.123456 (seconds since epoch)\n",
    "\n",
    "# Get structured UTC time\n",
    "utc_time = time.gmtime()\n",
    "print(utc_time)\n",
    "print(time.strftime(\"%Y-%m-%dT%H:%M:%SZ\", time.gmtime())) "
   ]
  },
  {
   "cell_type": "markdown",
   "metadata": {},
   "source": [
    "Test script for sending data to application server"
   ]
  },
  {
   "cell_type": "code",
   "execution_count": null,
   "metadata": {},
   "outputs": [],
   "source": [
    "from functions import *\n",
    "import os\n",
    "from dotenv import load_dotenv\n",
    "\n",
    "load_dotenv(\".env\")\n",
    "token = os.getenv(\"access_token\")\n",
    "location_id = \"asd\"\n",
    "color = \"black\"\n",
    "eoe = \"enter\"\n",
    "angle = 0\n",
    "\n",
    "app_send_data(token, location_id, color, eoe, angle)\n"
   ]
  }
 ],
 "metadata": {
  "kernelspec": {
   "display_name": "venv",
   "language": "python",
   "name": "python3"
  },
  "language_info": {
   "codemirror_mode": {
    "name": "ipython",
    "version": 3
   },
   "file_extension": ".py",
   "mimetype": "text/x-python",
   "name": "python",
   "nbconvert_exporter": "python",
   "pygments_lexer": "ipython3",
   "version": "3.11.5"
  }
 },
 "nbformat": 4,
 "nbformat_minor": 2
}
