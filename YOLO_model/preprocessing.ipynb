{
 "cells": [
  {
   "cell_type": "code",
   "execution_count": 11,
   "metadata": {},
   "outputs": [],
   "source": [
    "import cv2, numpy as np"
   ]
  },
  {
   "cell_type": "code",
   "execution_count": 6,
   "metadata": {},
   "outputs": [],
   "source": [
    "def extract_motion(delayed_frame, current_frame):\n",
    "    result_frame = cv2.absdiff(current_frame, delayed_frame)\n",
    "    result_frame = cv2.bitwise_not(result_frame)\n",
    "\n",
    "    return result_frame"
   ]
  },
  {
   "cell_type": "code",
   "execution_count": 7,
   "metadata": {},
   "outputs": [],
   "source": [
    "def adjust_saturation(image, saturation_scale=1.5):\n",
    "    # Convert the image from BGR to HSV\n",
    "    hsv_image = cv2.cvtColor(image, cv2.COLOR_BGR2HSV)\n",
    "    h, s, v = cv2.split(hsv_image)\n",
    "    \n",
    "    # Scale the saturation channel\n",
    "    s = np.clip(s * saturation_scale, 0, 255).astype(np.uint8)\n",
    "    \n",
    "    # Merge channels and convert back to BGR\n",
    "    adjusted_hsv = cv2.merge((h, s, v))\n",
    "    adjusted_image = cv2.cvtColor(adjusted_hsv, cv2.COLOR_HSV2BGR)\n",
    "\n",
    "    return adjusted_image"
   ]
  },
  {
   "cell_type": "code",
   "execution_count": 102,
   "metadata": {},
   "outputs": [],
   "source": [
    "def enhance_edges(image):\n",
    "    # Convert the image to grayscale\n",
    "    gray_image = cv2.cvtColor(image, cv2.COLOR_BGR2GRAY)\n",
    "    \n",
    "    # Apply Canny edge detection\n",
    "    edges = cv2.Canny(gray_image, threshold1=100, threshold2=150, apertureSize=3)\n",
    "    \n",
    "    # Optional: Overlay edges on original image\n",
    "    edges_colored = cv2.cvtColor(edges, cv2.COLOR_GRAY2BGR)\n",
    "    enhanced_image = cv2.addWeighted(image, 0.8, edges_colored, 0.2, 0)\n",
    "    return edges_colored"
   ]
  },
  {
   "cell_type": "code",
   "execution_count": 104,
   "metadata": {},
   "outputs": [],
   "source": [
    "frames = []\n",
    "path = \"../app_test_data/Untitled.mp4\"\n",
    "cap = cv2.VideoCapture(path)\n",
    "_, d_frame = cap.read()\n",
    "count = 1\n",
    "\n",
    "while True:\n",
    "    # Capture frame-by-frames\n",
    "    ret, c_frame = cap.read()\n",
    "\n",
    "    if not ret:\n",
    "        print('end')\n",
    "        break\n",
    "\n",
    "    c_frame = adjust_saturation(c_frame, 2.5)\n",
    "    c_frame = enhance_edges(c_frame)\n",
    "    out_frame = extract_motion(d_frame, c_frame)\n",
    "\n",
    "    # Show the frame with the annotations\n",
    "    cv2.imshow('asd', out_frame)\n",
    "    d_frame = c_frame\n",
    "\n",
    "    # Press 'q' to stop\n",
    "    if cv2.waitKey(1) == ord('q'):\n",
    "        break\n",
    "    \n",
    "    \"\"\"\n",
    "    zeros = \"\"\n",
    "    for i in range(4-len(str(count))):\n",
    "        zeros += \"0\"\n",
    "    cv2.imwrite(\"images/frame_\" + zeros + str(count) + \".png\", out_frame)\n",
    "    count += 1\"\"\"\n",
    "\n",
    "cap.release()\n",
    "cv2.destroyAllWindows()"
   ]
  }
 ],
 "metadata": {
  "kernelspec": {
   "display_name": "venv",
   "language": "python",
   "name": "python3"
  },
  "language_info": {
   "codemirror_mode": {
    "name": "ipython",
    "version": 3
   },
   "file_extension": ".py",
   "mimetype": "text/x-python",
   "name": "python",
   "nbconvert_exporter": "python",
   "pygments_lexer": "ipython3",
   "version": "3.11.5"
  }
 },
 "nbformat": 4,
 "nbformat_minor": 2
}
